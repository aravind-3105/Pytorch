{
  "nbformat": 4,
  "nbformat_minor": 0,
  "metadata": {
    "colab": {
      "name": "Tensor_Basics.ipynb",
      "provenance": [],
      "collapsed_sections": [],
      "authorship_tag": "ABX9TyO61s/FO3jyMQV0RvX9sWRc",
      "include_colab_link": true
    },
    "kernelspec": {
      "name": "python3",
      "display_name": "Python 3"
    },
    "language_info": {
      "name": "python"
    }
  },
  "cells": [
    {
      "cell_type": "markdown",
      "metadata": {
        "id": "view-in-github",
        "colab_type": "text"
      },
      "source": [
        "<a href=\"https://colab.research.google.com/github/aravind-3105/Pytorch/blob/main/Tensor_Basics.ipynb\" target=\"_parent\"><img src=\"https://colab.research.google.com/assets/colab-badge.svg\" alt=\"Open In Colab\"/></a>"
      ]
    },
    {
      "cell_type": "markdown",
      "metadata": {
        "id": "BLnAreBbdX2u"
      },
      "source": [
        "**Import libraries**"
      ]
    },
    {
      "cell_type": "code",
      "metadata": {
        "id": "uJa47F2tcdYJ"
      },
      "source": [
        "import torch"
      ],
      "execution_count": 2,
      "outputs": []
    },
    {
      "cell_type": "code",
      "metadata": {
        "colab": {
          "base_uri": "https://localhost:8080/"
        },
        "id": "86MzFZT_dhAv",
        "outputId": "a6cf551e-bb9c-4d1e-fd3d-5eafd4e117bd"
      },
      "source": [
        "a = torch.tensor(4.)\n",
        "print(\"Value:\",a,\"\\n Shape:  \",a.shape,\"\\n Type:  \",a.dtype)"
      ],
      "execution_count": 3,
      "outputs": [
        {
          "output_type": "stream",
          "text": [
            "Value: tensor(4.) \n",
            " Shape:   torch.Size([]) \n",
            " Type:   torch.float32\n"
          ],
          "name": "stdout"
        }
      ]
    },
    {
      "cell_type": "code",
      "metadata": {
        "colab": {
          "base_uri": "https://localhost:8080/"
        },
        "id": "Mb1WghNUeS2s",
        "outputId": "79e51e5c-0272-46a1-d7c4-83f49f1f3980"
      },
      "source": [
        "a = torch.tensor([1.,2.,3.,4.])\n",
        "print(\"Value:\",a,\"\\n Shape:  \",a.shape,\"\\n Type:  \",a.dtype)"
      ],
      "execution_count": 4,
      "outputs": [
        {
          "output_type": "stream",
          "text": [
            "Value: tensor([1., 2., 3., 4.]) \n",
            " Shape:   torch.Size([4]) \n",
            " Type:   torch.float32\n"
          ],
          "name": "stdout"
        }
      ]
    },
    {
      "cell_type": "code",
      "metadata": {
        "colab": {
          "base_uri": "https://localhost:8080/"
        },
        "id": "g0EphCD8ef3k",
        "outputId": "6394afb0-87bf-4299-ea8e-b8bfd61f7702"
      },
      "source": [
        "a = torch.tensor([[1,2,3],[3,4,3]])\n",
        "print(\"Value:\",a,\"\\n Shape:  \",a.shape,\"\\n Type:  \",a.dtype)"
      ],
      "execution_count": 5,
      "outputs": [
        {
          "output_type": "stream",
          "text": [
            "Value: tensor([[1, 2, 3],\n",
            "        [3, 4, 3]]) \n",
            " Shape:   torch.Size([2, 3]) \n",
            " Type:   torch.int64\n"
          ],
          "name": "stdout"
        }
      ]
    },
    {
      "cell_type": "code",
      "metadata": {
        "colab": {
          "base_uri": "https://localhost:8080/"
        },
        "id": "GMo8fX3RiHvx",
        "outputId": "e7e78e56-af93-468a-a3c8-15721df5491c"
      },
      "source": [
        "shape = (2,3,2)\n",
        "randomTensor = torch.rand(shape)\n",
        "zerosTensor = torch.zeros(shape)\n",
        "onesTensor = torch.ones(shape)\n",
        "fixedValTensor = torch.full(shape,23)\n",
        "\n",
        "print(f\"Random Tensor: \\n {randomTensor} \\n\")\n",
        "print(f\"Ones Tensor: \\n {onesTensor} \\n\")\n",
        "print(f\"Zeros Tensor: \\n {zerosTensor}\\n\")\n",
        "print(f\"Same val for all elements Tensor: \\n {fixedValTensor}\\n\")"
      ],
      "execution_count": 6,
      "outputs": [
        {
          "output_type": "stream",
          "text": [
            "Random Tensor: \n",
            " tensor([[[0.1512, 0.7002],\n",
            "         [0.0631, 0.7757],\n",
            "         [0.5084, 0.2415]],\n",
            "\n",
            "        [[0.3645, 0.4393],\n",
            "         [0.7644, 0.0896],\n",
            "         [0.0972, 0.6704]]]) \n",
            "\n",
            "Ones Tensor: \n",
            " tensor([[[1., 1.],\n",
            "         [1., 1.],\n",
            "         [1., 1.]],\n",
            "\n",
            "        [[1., 1.],\n",
            "         [1., 1.],\n",
            "         [1., 1.]]]) \n",
            "\n",
            "Zeros Tensor: \n",
            " tensor([[[0., 0.],\n",
            "         [0., 0.],\n",
            "         [0., 0.]],\n",
            "\n",
            "        [[0., 0.],\n",
            "         [0., 0.],\n",
            "         [0., 0.]]])\n",
            "\n",
            "Same val for all elements Tensor: \n",
            " tensor([[[23, 23],\n",
            "         [23, 23],\n",
            "         [23, 23]],\n",
            "\n",
            "        [[23, 23],\n",
            "         [23, 23],\n",
            "         [23, 23]]])\n",
            "\n"
          ],
          "name": "stdout"
        }
      ]
    },
    {
      "cell_type": "code",
      "metadata": {
        "colab": {
          "base_uri": "https://localhost:8080/"
        },
        "id": "Dos-pgdMs39z",
        "outputId": "77199cc4-4890-42e9-c650-a4c78581f162"
      },
      "source": [
        "print(f\"Device tensor is stored on: {a.device}\")"
      ],
      "execution_count": 7,
      "outputs": [
        {
          "output_type": "stream",
          "text": [
            "Device tensor is stored on: cpu\n"
          ],
          "name": "stdout"
        }
      ]
    },
    {
      "cell_type": "markdown",
      "metadata": {
        "id": "3eFcufJ-u_MU"
      },
      "source": [
        "**Compare with numpy operations**"
      ]
    },
    {
      "cell_type": "code",
      "metadata": {
        "colab": {
          "base_uri": "https://localhost:8080/"
        },
        "id": "2zBTJj04vH59",
        "outputId": "f544ba84-e978-4ae7-f84c-e8facc0db589"
      },
      "source": [
        "tensor = torch.ones(4,3)\n",
        "print(\"Original Matrix: \\n\",tensor)\n",
        "tensor[:,1] = 0\n",
        "print(\"Col assigned to zero: \\n\",tensor)\n",
        "tensor = torch.ones(4,3)\n",
        "tensor[1,:] = 0\n",
        "print(\"Row assigned to zero: \\n\",tensor)"
      ],
      "execution_count": 8,
      "outputs": [
        {
          "output_type": "stream",
          "text": [
            "Original Matrix: \n",
            " tensor([[1., 1., 1.],\n",
            "        [1., 1., 1.],\n",
            "        [1., 1., 1.],\n",
            "        [1., 1., 1.]])\n",
            "Col assigned to zero: \n",
            " tensor([[1., 0., 1.],\n",
            "        [1., 0., 1.],\n",
            "        [1., 0., 1.],\n",
            "        [1., 0., 1.]])\n",
            "Row assigned to zero: \n",
            " tensor([[1., 1., 1.],\n",
            "        [0., 0., 0.],\n",
            "        [1., 1., 1.],\n",
            "        [1., 1., 1.]])\n"
          ],
          "name": "stdout"
        }
      ]
    },
    {
      "cell_type": "markdown",
      "metadata": {
        "id": "CvVqAKXxwOx6"
      },
      "source": [
        "**Concatenate operations**"
      ]
    },
    {
      "cell_type": "code",
      "metadata": {
        "colab": {
          "base_uri": "https://localhost:8080/"
        },
        "id": "KiDwBWJ6wMsS",
        "outputId": "8444a14e-1511-4e7d-8535-21aca7f83c68"
      },
      "source": [
        "t1 = torch.ones(4,3)\n",
        "print(t1)\n",
        "t2 = torch.ones(4,3)\n",
        "print(t2)\n",
        "t3 = torch.cat((t1,t2),1)\n",
        "print(\"Add to columns\\n\",t3)\n",
        "t4 = torch.cat((t1,t2),0)\n",
        "print(\"Add to row\\n\",t4)"
      ],
      "execution_count": 9,
      "outputs": [
        {
          "output_type": "stream",
          "text": [
            "tensor([[1., 1., 1.],\n",
            "        [1., 1., 1.],\n",
            "        [1., 1., 1.],\n",
            "        [1., 1., 1.]])\n",
            "tensor([[1., 1., 1.],\n",
            "        [1., 1., 1.],\n",
            "        [1., 1., 1.],\n",
            "        [1., 1., 1.]])\n",
            "Add to columns\n",
            " tensor([[1., 1., 1., 1., 1., 1.],\n",
            "        [1., 1., 1., 1., 1., 1.],\n",
            "        [1., 1., 1., 1., 1., 1.],\n",
            "        [1., 1., 1., 1., 1., 1.]])\n",
            "Add to row\n",
            " tensor([[1., 1., 1.],\n",
            "        [1., 1., 1.],\n",
            "        [1., 1., 1.],\n",
            "        [1., 1., 1.],\n",
            "        [1., 1., 1.],\n",
            "        [1., 1., 1.],\n",
            "        [1., 1., 1.],\n",
            "        [1., 1., 1.]])\n"
          ],
          "name": "stdout"
        }
      ]
    },
    {
      "cell_type": "markdown",
      "metadata": {
        "id": "6nUhQpb-xpnZ"
      },
      "source": [
        "**Multiplication**"
      ]
    },
    {
      "cell_type": "code",
      "metadata": {
        "colab": {
          "base_uri": "https://localhost:8080/"
        },
        "id": "FcNZZg0uxntl",
        "outputId": "7cbf4b04-42a6-4a00-bdd0-a08d9a3bca36"
      },
      "source": [
        "# This computes the element-wise product\n",
        "print(f\"tensor.mul(tensor) \\n {tensor.mul(tensor)} \\n\")\n",
        "# Alternative syntax:\n",
        "print(f\"tensor * tensor \\n {tensor * tensor}\")\n",
        "\n",
        "print(f\"tensor.matmul(tensor.T) \\n {tensor.matmul(tensor.T)} \\n\")\n",
        "# Alternative syntax:\n",
        "print(f\"tensor @ tensor.T \\n {tensor @ tensor.T}\")"
      ],
      "execution_count": 10,
      "outputs": [
        {
          "output_type": "stream",
          "text": [
            "tensor.mul(tensor) \n",
            " tensor([[1., 1., 1.],\n",
            "        [0., 0., 0.],\n",
            "        [1., 1., 1.],\n",
            "        [1., 1., 1.]]) \n",
            "\n",
            "tensor * tensor \n",
            " tensor([[1., 1., 1.],\n",
            "        [0., 0., 0.],\n",
            "        [1., 1., 1.],\n",
            "        [1., 1., 1.]])\n",
            "tensor.matmul(tensor.T) \n",
            " tensor([[3., 0., 3., 3.],\n",
            "        [0., 0., 0., 0.],\n",
            "        [3., 0., 3., 3.],\n",
            "        [3., 0., 3., 3.]]) \n",
            "\n",
            "tensor @ tensor.T \n",
            " tensor([[3., 0., 3., 3.],\n",
            "        [0., 0., 0., 0.],\n",
            "        [3., 0., 3., 3.],\n",
            "        [3., 0., 3., 3.]])\n"
          ],
          "name": "stdout"
        }
      ]
    },
    {
      "cell_type": "code",
      "metadata": {
        "colab": {
          "base_uri": "https://localhost:8080/"
        },
        "id": "kl6uoaiF0fKp",
        "outputId": "43f90ce5-865c-4d8e-c1dd-dd067feca94c"
      },
      "source": [
        "print(\"Original\\n\")\n",
        "print(tensor, \"\\n\")\n",
        "\n",
        "print(\"After : non in place operation\\n\")\n",
        "print(tensor.add(5))\n",
        "print(tensor, \"\\n\")\n",
        "\n",
        "print(\"After: in place operation\\n\")\n",
        "tensor.add_(5)\n",
        "print(tensor)"
      ],
      "execution_count": 11,
      "outputs": [
        {
          "output_type": "stream",
          "text": [
            "Original\n",
            "\n",
            "tensor([[1., 1., 1.],\n",
            "        [0., 0., 0.],\n",
            "        [1., 1., 1.],\n",
            "        [1., 1., 1.]]) \n",
            "\n",
            "After : non in place operation\n",
            "\n",
            "tensor([[6., 6., 6.],\n",
            "        [5., 5., 5.],\n",
            "        [6., 6., 6.],\n",
            "        [6., 6., 6.]])\n",
            "tensor([[1., 1., 1.],\n",
            "        [0., 0., 0.],\n",
            "        [1., 1., 1.],\n",
            "        [1., 1., 1.]]) \n",
            "\n",
            "After: in place operation\n",
            "\n",
            "tensor([[6., 6., 6.],\n",
            "        [5., 5., 5.],\n",
            "        [6., 6., 6.],\n",
            "        [6., 6., 6.]])\n"
          ],
          "name": "stdout"
        }
      ]
    },
    {
      "cell_type": "markdown",
      "metadata": {
        "id": "hnLFXPn-1DI8"
      },
      "source": [
        "# Tensor Gradients"
      ]
    },
    {
      "cell_type": "code",
      "metadata": {
        "colab": {
          "base_uri": "https://localhost:8080/"
        },
        "id": "3HYewSmq1H37",
        "outputId": "c328b567-94e9-4dea-b68f-7123f80e8359"
      },
      "source": [
        "x = torch.tensor([4.])\n",
        "print(x)\n",
        "w = torch.tensor(5.,requires_grad=True)\n",
        "print(w)\n",
        "b = torch.tensor(6.,requires_grad=True)\n",
        "print(b)"
      ],
      "execution_count": 12,
      "outputs": [
        {
          "output_type": "stream",
          "text": [
            "tensor([4.])\n",
            "tensor(5., requires_grad=True)\n",
            "tensor(6., requires_grad=True)\n"
          ],
          "name": "stdout"
        }
      ]
    },
    {
      "cell_type": "code",
      "metadata": {
        "colab": {
          "base_uri": "https://localhost:8080/"
        },
        "id": "pZcWwqOA2CXM",
        "outputId": "ef1f3481-a41f-45e0-d965-a84fe1d01b9a"
      },
      "source": [
        "y = w*x + b # y_val = 4x5 + 6 = 26\n",
        "print(\"Y: \",y)\n",
        "print(\"w: \",w)\n",
        "print(\"X: \",x)\n",
        "print(\"b: \",b)"
      ],
      "execution_count": 13,
      "outputs": [
        {
          "output_type": "stream",
          "text": [
            "Y:  tensor([26.], grad_fn=<AddBackward0>)\n",
            "w:  tensor(5., requires_grad=True)\n",
            "X:  tensor([4.])\n",
            "b:  tensor(6., requires_grad=True)\n"
          ],
          "name": "stdout"
        }
      ]
    },
    {
      "cell_type": "code",
      "metadata": {
        "id": "TPxYlLib2wIR"
      },
      "source": [
        "y.backward()"
      ],
      "execution_count": 58,
      "outputs": []
    },
    {
      "cell_type": "code",
      "metadata": {
        "colab": {
          "base_uri": "https://localhost:8080/"
        },
        "id": "F6MFazhU3kF1",
        "outputId": "8faa9e21-fb1a-4166-c89e-c0920cefe299"
      },
      "source": [
        "# Display gradients\n",
        "print('dy/dx:', x.grad)\n",
        "print('dy/dw:', w.grad)\n",
        "print('dy/db:', b.grad)"
      ],
      "execution_count": 14,
      "outputs": [
        {
          "output_type": "stream",
          "text": [
            "dy/dx: None\n",
            "dy/dw: None\n",
            "dy/db: None\n"
          ],
          "name": "stdout"
        }
      ]
    },
    {
      "cell_type": "markdown",
      "metadata": {
        "id": "k66KOgcf35HN"
      },
      "source": [
        "dy/dw will be same value as x whie dy/dx will be none and dy/db = 1"
      ]
    },
    {
      "cell_type": "markdown",
      "metadata": {
        "id": "jwOynTR6QgAx"
      },
      "source": [
        "**Computational Graph**"
      ]
    },
    {
      "cell_type": "markdown",
      "metadata": {
        "id": "3R4L5_yqQrYx"
      },
      "source": [
        "We create another tensor ``Q`` from ``a`` and ``b``.\n",
        "\n",
        "\\begin{align}Q = 3a^3 - b^2\\end{align}\n"
      ]
    },
    {
      "cell_type": "code",
      "metadata": {
        "id": "vz2YV69F5L6k"
      },
      "source": [
        "a = torch.tensor([2., 3.], requires_grad=True)\n",
        "b = torch.tensor([6., 4.], requires_grad=True)"
      ],
      "execution_count": 36,
      "outputs": []
    },
    {
      "cell_type": "code",
      "metadata": {
        "id": "tc_N4QcfTbhP"
      },
      "source": [
        "Q = 3*a**3 - b**2"
      ],
      "execution_count": 37,
      "outputs": []
    },
    {
      "cell_type": "code",
      "metadata": {
        "id": "NaDidLzgRhsa"
      },
      "source": [
        "external_grad = torch.tensor([1., 1.])\n",
        "# dL/dQ\n",
        "Q.backward(gradient=external_grad)"
      ],
      "execution_count": 38,
      "outputs": []
    },
    {
      "cell_type": "code",
      "metadata": {
        "colab": {
          "base_uri": "https://localhost:8080/"
        },
        "id": "Nu5SMVTWRrbw",
        "outputId": "c02c0858-c72b-4f3b-a020-08e7d88b52ab"
      },
      "source": [
        "print(a.grad == 9*a**2)\n",
        "print(b.grad == -2*b)"
      ],
      "execution_count": 42,
      "outputs": [
        {
          "output_type": "stream",
          "text": [
            "tensor([True, True])\n",
            "tensor([True, True])\n"
          ],
          "name": "stdout"
        }
      ]
    },
    {
      "cell_type": "markdown",
      "metadata": {
        "id": "7KLhngXBfGN5"
      },
      "source": [
        "# GPU Support"
      ]
    },
    {
      "cell_type": "code",
      "metadata": {
        "colab": {
          "base_uri": "https://localhost:8080/"
        },
        "id": "znrHqjDCfFsx",
        "outputId": "b2a3628e-921d-4fcb-af92-db437aeedac1"
      },
      "source": [
        "print(torch.device)"
      ],
      "execution_count": 45,
      "outputs": [
        {
          "output_type": "stream",
          "text": [
            "<class 'torch.device'>\n"
          ],
          "name": "stdout"
        }
      ]
    },
    {
      "cell_type": "code",
      "metadata": {
        "colab": {
          "base_uri": "https://localhost:8080/"
        },
        "id": "pSgbukdrfUTP",
        "outputId": "6b2012d9-a988-42bc-834e-accbb14326b1"
      },
      "source": [
        "torch.cuda.is_available()"
      ],
      "execution_count": 46,
      "outputs": [
        {
          "output_type": "execute_result",
          "data": {
            "text/plain": [
              "False"
            ]
          },
          "metadata": {
            "tags": []
          },
          "execution_count": 46
        }
      ]
    }
  ]
}