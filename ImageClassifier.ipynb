{
  "nbformat": 4,
  "nbformat_minor": 0,
  "metadata": {
    "colab": {
      "name": "ImageClassifier.ipynb",
      "provenance": [],
      "collapsed_sections": [],
      "authorship_tag": "ABX9TyMh6hGyzF0teYlpqCj9qo0X",
      "include_colab_link": true
    },
    "kernelspec": {
      "name": "python3",
      "display_name": "Python 3"
    },
    "language_info": {
      "name": "python"
    },
    "widgets": {
      "application/vnd.jupyter.widget-state+json": {
        "0fee6fdd432146d890a53fd212778f71": {
          "model_module": "@jupyter-widgets/controls",
          "model_name": "HBoxModel",
          "state": {
            "_view_name": "HBoxView",
            "_dom_classes": [],
            "_model_name": "HBoxModel",
            "_view_module": "@jupyter-widgets/controls",
            "_model_module_version": "1.5.0",
            "_view_count": null,
            "_view_module_version": "1.5.0",
            "box_style": "",
            "layout": "IPY_MODEL_225d44a642bd4f22bf790c4ae3a3618f",
            "_model_module": "@jupyter-widgets/controls",
            "children": [
              "IPY_MODEL_3fef93a80c6f4940a7f09a4e1cf5eda6",
              "IPY_MODEL_9ca83c8522d84c9ea8f185953608e6ee"
            ]
          }
        },
        "225d44a642bd4f22bf790c4ae3a3618f": {
          "model_module": "@jupyter-widgets/base",
          "model_name": "LayoutModel",
          "state": {
            "_view_name": "LayoutView",
            "grid_template_rows": null,
            "right": null,
            "justify_content": null,
            "_view_module": "@jupyter-widgets/base",
            "overflow": null,
            "_model_module_version": "1.2.0",
            "_view_count": null,
            "flex_flow": null,
            "width": null,
            "min_width": null,
            "border": null,
            "align_items": null,
            "bottom": null,
            "_model_module": "@jupyter-widgets/base",
            "top": null,
            "grid_column": null,
            "overflow_y": null,
            "overflow_x": null,
            "grid_auto_flow": null,
            "grid_area": null,
            "grid_template_columns": null,
            "flex": null,
            "_model_name": "LayoutModel",
            "justify_items": null,
            "grid_row": null,
            "max_height": null,
            "align_content": null,
            "visibility": null,
            "align_self": null,
            "height": null,
            "min_height": null,
            "padding": null,
            "grid_auto_rows": null,
            "grid_gap": null,
            "max_width": null,
            "order": null,
            "_view_module_version": "1.2.0",
            "grid_template_areas": null,
            "object_position": null,
            "object_fit": null,
            "grid_auto_columns": null,
            "margin": null,
            "display": null,
            "left": null
          }
        },
        "3fef93a80c6f4940a7f09a4e1cf5eda6": {
          "model_module": "@jupyter-widgets/controls",
          "model_name": "FloatProgressModel",
          "state": {
            "_view_name": "ProgressView",
            "style": "IPY_MODEL_3cb3403967164fc99a2ea404894c0e45",
            "_dom_classes": [],
            "description": "",
            "_model_name": "FloatProgressModel",
            "bar_style": "success",
            "max": 170498071,
            "_view_module": "@jupyter-widgets/controls",
            "_model_module_version": "1.5.0",
            "value": 170498071,
            "_view_count": null,
            "_view_module_version": "1.5.0",
            "orientation": "horizontal",
            "min": 0,
            "description_tooltip": null,
            "_model_module": "@jupyter-widgets/controls",
            "layout": "IPY_MODEL_40f6c639a825417cb63abd3caf357e26"
          }
        },
        "9ca83c8522d84c9ea8f185953608e6ee": {
          "model_module": "@jupyter-widgets/controls",
          "model_name": "HTMLModel",
          "state": {
            "_view_name": "HTMLView",
            "style": "IPY_MODEL_1e5258b073374cecbd8ddee3e612e22d",
            "_dom_classes": [],
            "description": "",
            "_model_name": "HTMLModel",
            "placeholder": "​",
            "_view_module": "@jupyter-widgets/controls",
            "_model_module_version": "1.5.0",
            "value": " 170499072/? [00:09&lt;00:00, 17980074.56it/s]",
            "_view_count": null,
            "_view_module_version": "1.5.0",
            "description_tooltip": null,
            "_model_module": "@jupyter-widgets/controls",
            "layout": "IPY_MODEL_98df0324f8864cd2a998519efac7880a"
          }
        },
        "3cb3403967164fc99a2ea404894c0e45": {
          "model_module": "@jupyter-widgets/controls",
          "model_name": "ProgressStyleModel",
          "state": {
            "_view_name": "StyleView",
            "_model_name": "ProgressStyleModel",
            "description_width": "initial",
            "_view_module": "@jupyter-widgets/base",
            "_model_module_version": "1.5.0",
            "_view_count": null,
            "_view_module_version": "1.2.0",
            "bar_color": null,
            "_model_module": "@jupyter-widgets/controls"
          }
        },
        "40f6c639a825417cb63abd3caf357e26": {
          "model_module": "@jupyter-widgets/base",
          "model_name": "LayoutModel",
          "state": {
            "_view_name": "LayoutView",
            "grid_template_rows": null,
            "right": null,
            "justify_content": null,
            "_view_module": "@jupyter-widgets/base",
            "overflow": null,
            "_model_module_version": "1.2.0",
            "_view_count": null,
            "flex_flow": null,
            "width": null,
            "min_width": null,
            "border": null,
            "align_items": null,
            "bottom": null,
            "_model_module": "@jupyter-widgets/base",
            "top": null,
            "grid_column": null,
            "overflow_y": null,
            "overflow_x": null,
            "grid_auto_flow": null,
            "grid_area": null,
            "grid_template_columns": null,
            "flex": null,
            "_model_name": "LayoutModel",
            "justify_items": null,
            "grid_row": null,
            "max_height": null,
            "align_content": null,
            "visibility": null,
            "align_self": null,
            "height": null,
            "min_height": null,
            "padding": null,
            "grid_auto_rows": null,
            "grid_gap": null,
            "max_width": null,
            "order": null,
            "_view_module_version": "1.2.0",
            "grid_template_areas": null,
            "object_position": null,
            "object_fit": null,
            "grid_auto_columns": null,
            "margin": null,
            "display": null,
            "left": null
          }
        },
        "1e5258b073374cecbd8ddee3e612e22d": {
          "model_module": "@jupyter-widgets/controls",
          "model_name": "DescriptionStyleModel",
          "state": {
            "_view_name": "StyleView",
            "_model_name": "DescriptionStyleModel",
            "description_width": "",
            "_view_module": "@jupyter-widgets/base",
            "_model_module_version": "1.5.0",
            "_view_count": null,
            "_view_module_version": "1.2.0",
            "_model_module": "@jupyter-widgets/controls"
          }
        },
        "98df0324f8864cd2a998519efac7880a": {
          "model_module": "@jupyter-widgets/base",
          "model_name": "LayoutModel",
          "state": {
            "_view_name": "LayoutView",
            "grid_template_rows": null,
            "right": null,
            "justify_content": null,
            "_view_module": "@jupyter-widgets/base",
            "overflow": null,
            "_model_module_version": "1.2.0",
            "_view_count": null,
            "flex_flow": null,
            "width": null,
            "min_width": null,
            "border": null,
            "align_items": null,
            "bottom": null,
            "_model_module": "@jupyter-widgets/base",
            "top": null,
            "grid_column": null,
            "overflow_y": null,
            "overflow_x": null,
            "grid_auto_flow": null,
            "grid_area": null,
            "grid_template_columns": null,
            "flex": null,
            "_model_name": "LayoutModel",
            "justify_items": null,
            "grid_row": null,
            "max_height": null,
            "align_content": null,
            "visibility": null,
            "align_self": null,
            "height": null,
            "min_height": null,
            "padding": null,
            "grid_auto_rows": null,
            "grid_gap": null,
            "max_width": null,
            "order": null,
            "_view_module_version": "1.2.0",
            "grid_template_areas": null,
            "object_position": null,
            "object_fit": null,
            "grid_auto_columns": null,
            "margin": null,
            "display": null,
            "left": null
          }
        }
      }
    }
  },
  "cells": [
    {
      "cell_type": "markdown",
      "metadata": {
        "id": "view-in-github",
        "colab_type": "text"
      },
      "source": [
        "<a href=\"https://colab.research.google.com/github/aravind-3105/Pytorch/blob/main/ImageClassifier.ipynb\" target=\"_parent\"><img src=\"https://colab.research.google.com/assets/colab-badge.svg\" alt=\"Open In Colab\"/></a>"
      ]
    },
    {
      "cell_type": "markdown",
      "metadata": {
        "id": "wlKKdyWoJTDD"
      },
      "source": [
        "# Image classifier for CIFAR10 Dataset"
      ]
    },
    {
      "cell_type": "markdown",
      "metadata": {
        "id": "5aSc6r_tvdrI"
      },
      "source": [
        "Neural Network shown in RRC Summer Session 28/05/2021"
      ]
    },
    {
      "cell_type": "markdown",
      "metadata": {
        "id": "QCNnBI3ZJtFd"
      },
      "source": [
        "**Steps involved: <br>\n",
        "1) Load and normalize the CIFAR10 training and test datasets using torchvision<br>\n",
        "2) Define a Convolutional Neural Network<br>\n",
        "3) Define a loss function<br>\n",
        "4) Train the network on the training data<br>\n",
        "5) Test the network on the test data**"
      ]
    },
    {
      "cell_type": "code",
      "metadata": {
        "id": "6kFCA1NPlNX2"
      },
      "source": [
        "import torch\n",
        "import torchvision\n",
        "import torchvision.transforms as transforms\n",
        "import matplotlib.pyplot as plt\n",
        "import numpy as np\n",
        "import torch.optim as optim"
      ],
      "execution_count": 1,
      "outputs": []
    },
    {
      "cell_type": "markdown",
      "metadata": {
        "id": "DUKDKjPpNAhN"
      },
      "source": [
        "Relevant Doc Link: [Click here](https://pytorch.org/vision/stable/transforms.html)"
      ]
    },
    {
      "cell_type": "code",
      "metadata": {
        "colab": {
          "base_uri": "https://localhost:8080/",
          "height": 138,
          "referenced_widgets": [
            "0fee6fdd432146d890a53fd212778f71",
            "225d44a642bd4f22bf790c4ae3a3618f",
            "3fef93a80c6f4940a7f09a4e1cf5eda6",
            "9ca83c8522d84c9ea8f185953608e6ee",
            "3cb3403967164fc99a2ea404894c0e45",
            "40f6c639a825417cb63abd3caf357e26",
            "1e5258b073374cecbd8ddee3e612e22d",
            "98df0324f8864cd2a998519efac7880a"
          ]
        },
        "id": "RypIDJ_dKYRS",
        "outputId": "9417f52e-01c0-4425-9937-f0e3476abaf2"
      },
      "source": [
        "transform = transforms.Compose([\n",
        "                               transforms.ToTensor(),\n",
        "                               transforms.Normalize((0.5,0.5,0.5),(0.5,0.5,0.5))])\n",
        "\n",
        "batch_size = 4\n",
        "\n",
        "trainset = torchvision.datasets.CIFAR10(root='./data', train=True,\n",
        "                                        download=True, transform=transform)\n",
        "trainloader = torch.utils.data.DataLoader(trainset, batch_size=batch_size,\n",
        "                                          shuffle=True, num_workers=2)\n",
        "\n",
        "testset = torchvision.datasets.CIFAR10(root='./data', train=False,\n",
        "                                       download=True, transform=transform)\n",
        "testloader = torch.utils.data.DataLoader(testset, batch_size=batch_size,\n",
        "                                         shuffle=False, num_workers=2)\n",
        "\n",
        "classes = ('plane', 'car', 'bird', 'cat',\n",
        "           'deer', 'dog', 'frog', 'horse', 'ship', 'truck')"
      ],
      "execution_count": 2,
      "outputs": [
        {
          "output_type": "stream",
          "text": [
            "Downloading https://www.cs.toronto.edu/~kriz/cifar-10-python.tar.gz to ./data/cifar-10-python.tar.gz\n"
          ],
          "name": "stdout"
        },
        {
          "output_type": "display_data",
          "data": {
            "application/vnd.jupyter.widget-view+json": {
              "model_id": "0fee6fdd432146d890a53fd212778f71",
              "version_minor": 0,
              "version_major": 2
            },
            "text/plain": [
              "HBox(children=(FloatProgress(value=0.0, max=170498071.0), HTML(value='')))"
            ]
          },
          "metadata": {
            "tags": []
          }
        },
        {
          "output_type": "stream",
          "text": [
            "\n",
            "Extracting ./data/cifar-10-python.tar.gz to ./data\n",
            "Files already downloaded and verified\n"
          ],
          "name": "stdout"
        }
      ]
    },
    {
      "cell_type": "code",
      "metadata": {
        "colab": {
          "base_uri": "https://localhost:8080/",
          "height": 155
        },
        "id": "BTmkTVazPuSy",
        "outputId": "6ef68c2e-392c-413e-f9c4-9010011caccf"
      },
      "source": [
        "#function to show image\n",
        "def printImg(img):\n",
        "  #First normalise\n",
        "  img = img/2 + 0.5\n",
        "  #Convert to numpy\n",
        "  npImg = img.numpy()\n",
        "  plt.imshow(np.transpose(npImg,(1,2,0)))\n",
        "  plt.show()\n",
        "\n",
        "detaiter = iter(trainloader)\n",
        "images,labels = detaiter.next()\n",
        "\n",
        "printImg(torchvision.utils.make_grid(images))\n",
        "print(' '.join('%5s' % classes[labels[j]] for j in range(batch_size)))"
      ],
      "execution_count": 3,
      "outputs": [
        {
          "output_type": "display_data",
          "data": {
            "image/png": "[encoded data removed]",
            "text/plain": [
              "<Figure size 432x288 with 1 Axes>"
            ]
          },
          "metadata": {
            "tags": [],
            "needs_background": "light"
          }
        },
        {
          "output_type": "stream",
          "text": [
            "  cat  frog  ship horse\n"
          ],
          "name": "stdout"
        }
      ]
    },
    {
      "cell_type": "markdown",
      "metadata": {
        "id": "bxpBUnpTTxQl"
      },
      "source": [
        "Make a convolutional neural network"
      ]
    },
    {
      "cell_type": "code",
      "metadata": {
        "id": "F9-zrdasTvez"
      },
      "source": [
        "import torch.nn as nn\n",
        "import torch.nn.functional as F\n",
        "\n",
        "\n",
        "class Net(nn.Module):\n",
        "    def __init__(self):\n",
        "        super().__init__()\n",
        "        self.conv1 = nn.Conv2d(3, 6, 5)\n",
        "        self.pool = nn.MaxPool2d(2, 2)\n",
        "        self.conv2 = nn.Conv2d(6, 16, 5)\n",
        "        self.fc1 = nn.Linear(16 * 5 * 5, 120)\n",
        "        self.fc2 = nn.Linear(120, 84)\n",
        "        self.fc3 = nn.Linear(84, 10)\n",
        "\n",
        "    def forward(self, x):\n",
        "        x = self.pool(F.relu(self.conv1(x)))\n",
        "        x = self.pool(F.relu(self.conv2(x)))\n",
        "        x = torch.flatten(x, 1) # flatten all dimensions except batch\n",
        "        x = F.relu(self.fc1(x))\n",
        "        x = F.relu(self.fc2(x))\n",
        "        x = self.fc3(x)\n",
        "        return x\n",
        "\n",
        "\n",
        "net = Net()"
      ],
      "execution_count": 4,
      "outputs": []
    },
    {
      "cell_type": "markdown",
      "metadata": {
        "id": "EZXZC8EUUrxY"
      },
      "source": [
        "Loss Function and Optimiser"
      ]
    },
    {
      "cell_type": "code",
      "metadata": {
        "id": "uSX2xQDCUqmy"
      },
      "source": [
        "criterion = nn.CrossEntropyLoss()\n",
        "optimizer = optim.SGD(net.parameters(), lr = 0.0005, momentum = 0.9)"
      ],
      "execution_count": 8,
      "outputs": []
    },
    {
      "cell_type": "code",
      "metadata": {
        "colab": {
          "base_uri": "https://localhost:8080/"
        },
        "id": "aIq_zaGCjj-Y",
        "outputId": "0389993c-b8ef-45b1-8146-5d4685d7cd24"
      },
      "source": [
        "for epoch in range(10):\n",
        "  running_loss = 0.0\n",
        "  for i,data in enumerate(trainloader,0):\n",
        "    inputs, labels = data\n",
        "    #Zero-out parameter gradients\n",
        "    optimizer.zero_grad()\n",
        "    #Forward Propagate\n",
        "    outputs = net(inputs)\n",
        "    loss = criterion(outputs, labels)\n",
        "    #Backward Propagate\n",
        "    loss.backward()\n",
        "    #Optimise\n",
        "    optimizer.step()\n",
        "\n",
        "    running_loss += loss.item()\n",
        "    if i % 2000 == 1999:\n",
        "      print('[%d, %5d] loss: %.3f' %\n",
        "                  (epoch + 1, i + 1, running_loss / 2000))\n",
        "      running_loss = 0.0\n",
        "\n",
        "print('Training Done')\n"
      ],
      "execution_count": 9,
      "outputs": [
        {
          "output_type": "stream",
          "text": [
            "[1,  2000] loss: 1.557\n",
            "[1,  4000] loss: 1.449\n",
            "[1,  6000] loss: 1.421\n",
            "[1,  8000] loss: 1.372\n",
            "[1, 10000] loss: 1.362\n",
            "[1, 12000] loss: 1.356\n",
            "[2,  2000] loss: 1.312\n",
            "[2,  4000] loss: 1.325\n",
            "[2,  6000] loss: 1.293\n",
            "[2,  8000] loss: 1.297\n",
            "[2, 10000] loss: 1.282\n",
            "[2, 12000] loss: 1.274\n",
            "[3,  2000] loss: 1.212\n",
            "[3,  4000] loss: 1.241\n",
            "[3,  6000] loss: 1.231\n",
            "[3,  8000] loss: 1.261\n",
            "[3, 10000] loss: 1.245\n",
            "[3, 12000] loss: 1.238\n",
            "[4,  2000] loss: 1.181\n",
            "[4,  4000] loss: 1.201\n",
            "[4,  6000] loss: 1.215\n",
            "[4,  8000] loss: 1.199\n",
            "[4, 10000] loss: 1.188\n",
            "[4, 12000] loss: 1.199\n",
            "[5,  2000] loss: 1.162\n",
            "[5,  4000] loss: 1.165\n",
            "[5,  6000] loss: 1.170\n",
            "[5,  8000] loss: 1.159\n",
            "[5, 10000] loss: 1.142\n",
            "[5, 12000] loss: 1.173\n",
            "[6,  2000] loss: 1.133\n",
            "[6,  4000] loss: 1.128\n",
            "[6,  6000] loss: 1.134\n",
            "[6,  8000] loss: 1.162\n",
            "[6, 10000] loss: 1.118\n",
            "[6, 12000] loss: 1.118\n",
            "[7,  2000] loss: 1.085\n",
            "[7,  4000] loss: 1.099\n",
            "[7,  6000] loss: 1.114\n",
            "[7,  8000] loss: 1.102\n",
            "[7, 10000] loss: 1.113\n",
            "[7, 12000] loss: 1.144\n",
            "[8,  2000] loss: 1.079\n",
            "[8,  4000] loss: 1.102\n",
            "[8,  6000] loss: 1.071\n",
            "[8,  8000] loss: 1.097\n",
            "[8, 10000] loss: 1.066\n",
            "[8, 12000] loss: 1.098\n",
            "[9,  2000] loss: 1.049\n",
            "[9,  4000] loss: 1.069\n",
            "[9,  6000] loss: 1.070\n",
            "[9,  8000] loss: 1.065\n",
            "[9, 10000] loss: 1.066\n",
            "[9, 12000] loss: 1.057\n",
            "[10,  2000] loss: 1.018\n",
            "[10,  4000] loss: 1.018\n",
            "[10,  6000] loss: 1.047\n",
            "[10,  8000] loss: 1.035\n",
            "[10, 10000] loss: 1.056\n",
            "[10, 12000] loss: 1.062\n",
            "Training Done\n"
          ],
          "name": "stdout"
        }
      ]
    },
    {
      "cell_type": "code",
      "metadata": {
        "id": "aNcUYoMllhg8"
      },
      "source": [
        "#Save model\n",
        "PATH = './cifar_net.pth'\n",
        "torch.save(net.state_dict(), PATH)\n"
      ],
      "execution_count": 10,
      "outputs": []
    },
    {
      "cell_type": "markdown",
      "metadata": {
        "id": "mic7uvk7jm5B"
      },
      "source": [
        "Test Model"
      ]
    },
    {
      "cell_type": "code",
      "metadata": {
        "colab": {
          "base_uri": "https://localhost:8080/",
          "height": 155
        },
        "id": "Rtji_CG8qskQ",
        "outputId": "cc8d8380-9245-4607-da3f-3580081fb320"
      },
      "source": [
        "dataiter = iter(testloader)\n",
        "images, labels = dataiter.next()\n",
        "\n",
        "# print images\n",
        "printImg(torchvision.utils.make_grid(images))\n",
        "print('GroundTruth: ', ' '.join('%5s' % classes[labels[j]] for j in range(4)))"
      ],
      "execution_count": 12,
      "outputs": [
        {
          "output_type": "display_data",
          "data": {
            "image/png": "[encoded data removed]",
            "text/plain": [
              "<Figure size 432x288 with 1 Axes>"
            ]
          },
          "metadata": {
            "tags": [],
            "needs_background": "light"
          }
        },
        {
          "output_type": "stream",
          "text": [
            "GroundTruth:    cat  ship  ship plane\n"
          ],
          "name": "stdout"
        }
      ]
    },
    {
      "cell_type": "markdown",
      "metadata": {
        "id": "gsOMDZ94ttsY"
      },
      "source": [
        "Test Accuracy"
      ]
    },
    {
      "cell_type": "code",
      "metadata": {
        "colab": {
          "base_uri": "https://localhost:8080/"
        },
        "id": "IAUa_HJZtwoC",
        "outputId": "a0f41f2a-a8ae-4f93-cf26-60ed03545adb"
      },
      "source": [
        "correct = 0\n",
        "total = 0\n",
        "# since we're not training, we don't need to calculate the gradients for our outputs\n",
        "with torch.no_grad():\n",
        "    for data in testloader:\n",
        "        images, labels = data\n",
        "        # calculate outputs by running images through the network\n",
        "        outputs = net(images)\n",
        "        # the class with the highest energy is what we choose as prediction\n",
        "        _, predicted = torch.max(outputs.data, 1)\n",
        "        total += labels.size(0)\n",
        "        correct += (predicted == labels).sum().item()\n",
        "\n",
        "print('Accuracy of the network on the 10000 test images: %d %%' % (\n",
        "    100 * correct / total))"
      ],
      "execution_count": 13,
      "outputs": [
        {
          "output_type": "stream",
          "text": [
            "Accuracy of the network on the 10000 test images: 53 %\n"
          ],
          "name": "stdout"
        }
      ]
    },
    {
      "cell_type": "code",
      "metadata": {
        "colab": {
          "base_uri": "https://localhost:8080/"
        },
        "id": "VSoHhom4t6kl",
        "outputId": "b7b436af-2b9e-4ed2-f72a-4d29f4143ab5"
      },
      "source": [
        "# prepare to count predictions for each class\n",
        "correct_pred = {classname: 0 for classname in classes}\n",
        "total_pred = {classname: 0 for classname in classes}\n",
        "\n",
        "# again no gradients needed\n",
        "with torch.no_grad():\n",
        "    for data in testloader:\n",
        "        images, labels = data\n",
        "        outputs = net(images)\n",
        "        _, predictions = torch.max(outputs, 1)\n",
        "        # collect the correct predictions for each class\n",
        "        for label, prediction in zip(labels, predictions):\n",
        "            if label == prediction:\n",
        "                correct_pred[classes[label]] += 1\n",
        "            total_pred[classes[label]] += 1\n",
        "\n",
        "\n",
        "# print accuracy for each class\n",
        "for classname, correct_count in correct_pred.items():\n",
        "    accuracy = 100 * float(correct_count) / total_pred[classname]\n",
        "    print(\"Accuracy for class {:5s} is: {:.1f} %\".format(classname,\n",
        "                                                   accuracy))"
      ],
      "execution_count": 14,
      "outputs": [
        {
          "output_type": "stream",
          "text": [
            "Accuracy for class plane is: 55.6 %\n",
            "Accuracy for class car   is: 63.5 %\n",
            "Accuracy for class bird  is: 36.3 %\n",
            "Accuracy for class cat   is: 36.4 %\n",
            "Accuracy for class deer  is: 47.9 %\n",
            "Accuracy for class dog   is: 37.2 %\n",
            "Accuracy for class frog  is: 70.2 %\n",
            "Accuracy for class horse is: 59.0 %\n",
            "Accuracy for class ship  is: 67.7 %\n",
            "Accuracy for class truck is: 61.6 %\n"
          ],
          "name": "stdout"
        }
      ]
    }
  ]
}